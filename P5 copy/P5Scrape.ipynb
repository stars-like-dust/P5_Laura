{
 "cells": [
  {
   "cell_type": "code",
   "execution_count": 1,
   "metadata": {},
   "outputs": [],
   "source": [
    "# Dependencies\n",
    "from bs4 import BeautifulSoup\n",
    "import requests"
   ]
  },
  {
   "cell_type": "code",
   "execution_count": 2,
   "metadata": {},
   "outputs": [],
   "source": [
    "# URL of page to be scraped\n",
    "url = 'https://ourworldindata.org/faq-on-plastics#can-we-remove-plastic-already-in-the-ocean'"
   ]
  },
  {
   "cell_type": "code",
   "execution_count": 3,
   "metadata": {},
   "outputs": [],
   "source": [
    "# Retrieve page with the requests module\n",
    "response = requests.get(url)"
   ]
  },
  {
   "cell_type": "code",
   "execution_count": 4,
   "metadata": {},
   "outputs": [],
   "source": [
    "# Create BeautifulSoup object; parse with 'html.parser'\n",
    "soup = BeautifulSoup(response.text, 'html.parser')"
   ]
  },
  {
   "cell_type": "code",
   "execution_count": 5,
   "metadata": {
    "scrolled": false
   },
   "outputs": [],
   "source": [
    "# Examine the results, then determine element that contains sought info\n",
    "#print(soup.prettify())\n"
   ]
  },
  {
   "cell_type": "code",
   "execution_count": 6,
   "metadata": {},
   "outputs": [],
   "source": [
    "# Sought info found\n",
    "#https://ourworldindata.org/grapher/grocery-bag-comparisons-ghg"
   ]
  },
  {
   "cell_type": "code",
   "execution_count": 7,
   "metadata": {
    "scrolled": true
   },
   "outputs": [
    {
     "name": "stdout",
     "output_type": "stream",
     "text": [
      "<!DOCTYPE doctype html>\n",
      "<html>\n",
      " <head>\n",
      "  <meta content=\"width=device-width, initial-scale=1\" name=\"viewport\"/>\n",
      "  <title>\n",
      "   Grocery bag comparisons for greenhouse gas emissions - Our World in Data\n",
      "  </title>\n",
      "  <meta content=\"Number of times a given grocery bag type would have to be reused to have as low greenhouse gas emissions as a standard single-use plastic bag (LDPE; Low-density polyethylene). Greenhouse gas emissions for each material type were measured over a full life-cycle analysis (LCA). A value of 5 would indicate a given bag type would have to be reused 5 times to have as low a greenhouse gas footprint as a standard plastic bag.\" name=\"description\"/>\n",
      "  <link href=\"https://ourworldindata.org/grapher/grocery-bag-comparisons-ghg\" rel=\"canonical\"/>\n",
      "  <meta content=\"1149943818390250\" property=\"fb:app_id\"/>\n",
      "  <meta content=\"https://ourworldindata.org/grapher/grocery-bag-comparisons-ghg\" property=\"og:url\"/>\n",
      "  <meta content=\"Grocery bag comparisons for greenhouse gas emissions\" property=\"og:title\"/>\n",
      "  <meta content=\"Number of times a given grocery bag type would have to be reused to have as low greenhouse gas emissions as a standard single-use plastic bag (LDPE; Low-density polyethylene). Greenhouse gas emissions for each material type were measured over a full life-cycle analysis (LCA). A value of 5 would indicate a given bag type would have to be reused 5 times to have as low a greenhouse gas footprint as a standard plastic bag.\" property=\"og:description\"/>\n",
      "  <meta content=\"https://ourworldindata.org/grapher/exports/grocery-bag-comparisons-ghg.png?v=1\" property=\"og:image\"/>\n",
      "  <meta content=\"850\" property=\"og:image:width\"/>\n",
      "  <meta content=\"600\" property=\"og:image:height\"/>\n",
      "  <meta content=\"Our World in Data\" property=\"og:site_name\"/>\n",
      "  <meta content=\"summary_large_image\" name=\"twitter:card\"/>\n",
      "  <meta content=\"@OurWorldInData\" name=\"twitter:site\"/>\n",
      "  <meta content=\"@OurWorldInData\" name=\"twitter:creator\"/>\n",
      "  <meta content=\"Grocery bag comparisons for greenhouse gas emissions\" name=\"twitter:title\"/>\n",
      "  <meta content=\"Number of times a given grocery bag type would have to be reused to have as low greenhouse gas emissions as a standard single-use plastic bag (LDPE; Low-density polyethylene). Greenhouse gas emissions for each material type were measured over a full life-cycle analysis (LCA). A value of 5 would indicate a given bag type would have to be reused 5 times to have as low a greenhouse gas footprint as a standard plastic bag.\" name=\"twitter:description\"/>\n",
      "  <meta content=\"https://ourworldindata.org/grapher/exports/grocery-bag-comparisons-ghg.png?v=1\" name=\"twitter:image\"/>\n",
      "  <style>\n",
      "   html, body {\n",
      "            height: 100%;\n",
      "            margin: 0;\n",
      "        }\n",
      "\n",
      "        figure[data-grapher-src], #fallback {\n",
      "            display: flex;\n",
      "            align-items: center;\n",
      "            justify-content: center;\n",
      "            flex-direction: column;\n",
      "            margin: 0;\n",
      "            width: 100%;\n",
      "            height: 100%;\n",
      "        }\n",
      "\n",
      "        #fallback > img {\n",
      "            max-width: 100%;\n",
      "            border: 1px solid #ccc;\n",
      "        }\n",
      "  </style>\n",
      "  <noscript>\n",
      "   <style>\n",
      "    figure { display: none !important; }\n",
      "   </style>\n",
      "  </noscript>\n",
      "  <link href=\"https://ourworldindata.org/grapher/assets/commons.bundle.521782e703f0fe72f108.css\" rel=\"stylesheet\"/>\n",
      "  <link as=\"fetch\" crossorigin=\"\" href=\"/grapher/data/variables/97809.json?v=1\" rel=\"preload\"/>\n",
      "  <!-- Global site tag (gtag.js) - Google Analytics -->\n",
      "  <script async=\"\" src=\"https://www.googletagmanager.com/gtag/js?id=UA-42018644-1\">\n",
      "  </script>\n",
      "  <script>\n",
      "   window.dataLayer = window.dataLayer || [];\n",
      "  function gtag(){dataLayer.push(arguments);}\n",
      "  gtag('js', new Date());\n",
      "\n",
      "  gtag('config', 'UA-42018644-1');\n",
      "  </script>\n",
      " </head>\n",
      " <body class=\"singleChart\">\n",
      "  <figure data-grapher-src=\"/grapher/grocery-bag-comparisons-ghg\">\n",
      "  </figure>\n",
      "  <noscript id=\"fallback\">\n",
      "   <img src=\"https://d33wubrfki0l68.cloudfront.net/1c4143db628012300bf2e4f73529f32f2174085e/64bb5/grapher/exports/grocery-bag-comparisons-ghg.svg\"/>\n",
      "   <p>\n",
      "    Interactive visualization requires JavaScript\n",
      "   </p>\n",
      "  </noscript>\n",
      "  <script src=\"https://cdn.polyfill.io/v2/polyfill.min.js?features=es6,fetch\">\n",
      "  </script>\n",
      "  <script src=\"https://ourworldindata.org/grapher/assets/commons.bundle.521782e703f0fe72f108.js\">\n",
      "  </script>\n",
      "  <script src=\"https://ourworldindata.org/grapher/assets/charts.bundle.521782e703f0fe72f108.js\">\n",
      "  </script>\n",
      "  <script>\n",
      "   var jsonConfig = {\"map\":{\"projection\":\"World\",\"colorSchemeLabels\":[],\"colorSchemeValues\":[],\"customNumericColors\":[],\"customCategoryColors\":{},\"customCategoryLabels\":{},\"customHiddenCategories\":{}},\"tab\":\"chart\",\"slug\":\"grocery-bag-comparisons-ghg\",\"type\":\"DiscreteBar\",\"title\":\"Grocery bag comparisons for greenhouse gas emissions\",\"xAxis\":{\"scaleType\":\"linear\"},\"yAxis\":{\"min\":0,\"scaleType\":\"linear\"},\"version\":1,\"subtitle\":\"Number of times a given grocery bag type would have to be reused to have as low greenhouse gas emissions as a standard single-use plastic bag (LDPE; Low-density polyethylene). Greenhouse gas emissions for each material type were measured over a full life-cycle analysis (LCA). A value of 5 would indicate a given bag type would have to be reused 5 times to have as low a greenhouse gas footprint as a standard plastic bag.\",\"hasMapTab\":false,\"stackMode\":\"absolute\",\"dimensions\":[{\"display\":{\"unit\":\"reuses\",\"shortUnit\":\"reuses\"},\"property\":\"y\",\"variableId\":97809}],\"sourceDesc\":\"Danish Environmental Protection Agency (2018)\",\"hasChartTab\":true,\"isPublished\":true,\"selectedData\":[{\"index\":0,\"entityId\":37893},{\"index\":0,\"entityId\":37895},{\"index\":0,\"entityId\":37898},{\"index\":0,\"entityId\":37897},{\"index\":0,\"entityId\":37896},{\"index\":0,\"entityId\":37892},{\"index\":0,\"entityId\":37889},{\"index\":0,\"entityId\":37890},{\"index\":0,\"entityId\":37891},{\"index\":0,\"entityId\":37894}],\"addCountryMode\":\"disabled\",\"baseColorScheme\":\"owid-distinct\",\"invertColorScheme\":true,\"hideTitleAnnotation\":true,\"id\":2956};\n",
      "        var figure = document.getElementsByTagName(\"figure\")[0];\n",
      "        try {\n",
      "            window.App = {};\n",
      "            window.Global = { rootUrl: 'https://ourworldindata.org/grapher' };\n",
      "            ChartView.bootstrap({ jsonConfig: jsonConfig, containerNode: figure })\n",
      "        } catch (err) {\n",
      "            figure.innerHTML = \"<img src=\\\"/grapher/exports/grocery-bag-comparisons-ghg.svg\\\"/><p>Unable to load interactive visualization</p>\";\n",
      "            figure.setAttribute(\"id\", \"fallback\");\n",
      "            throw err;\n",
      "        }\n",
      "  </script>\n",
      " </body>\n",
      "</html>\n"
     ]
    }
   ],
   "source": [
    "#Examine the html of the located url\n",
    "url = 'https://ourworldindata.org/grapher/grocery-bag-comparisons-ghg'\n",
    "results = requests.get(url)\n",
    "chart = BeautifulSoup(results.text, 'html.parser')\n",
    "print(chart.prettify())"
   ]
  },
  {
   "cell_type": "code",
   "execution_count": 8,
   "metadata": {},
   "outputs": [],
   "source": [
    "#Embed into html file for website."
   ]
  },
  {
   "cell_type": "code",
   "execution_count": 9,
   "metadata": {},
   "outputs": [],
   "source": [
    "#Saved target url page as png. Later decided don't need in final website html.\n",
    "from selenium.webdriver import Chrome\n",
    "\n",
    "url, filename = 'https://ourworldindata.org/grapher/grocery-bag-comparisons-ghg', 'Image.png'\n",
    "\n",
    "browser = Chrome()\n",
    "try:\n",
    "    browser.get(url)\n",
    "    browser.get_screenshot_as_file(filename)\n",
    "finally:\n",
    "    browser.quit()"
   ]
  },
  {
   "cell_type": "code",
   "execution_count": 11,
   "metadata": {},
   "outputs": [],
   "source": [
    "#Create image of Single Use Legislation chart\n",
    "\n",
    "url = 'https://www.5gyres.org/plastic-bags/'\n",
    "pic = requests.get(url)\n",
    "ABPic = BeautifulSoup(pic.text, 'html.parser')\n",
    "#print(ABPic.prettify())\n",
    "url, filename = 'https://static1.squarespace.com/static/5522e85be4b0b65a7c78ac96/t/5ac28892562fa78c2a486987/1522698392580/28953721_1850862358260290_3486820304191186055_o.jpg?format=1500w', 'ABPicture.png'\n",
    "browser = Chrome()\n",
    "try:\n",
    "    browser.get(url)\n",
    "    browser.get_screenshot_as_file(filename)\n",
    "finally:\n",
    "    browser.quit()"
   ]
  },
  {
   "cell_type": "code",
   "execution_count": null,
   "metadata": {},
   "outputs": [],
   "source": []
  }
 ],
 "metadata": {
  "kernelspec": {
   "display_name": "Python 3",
   "language": "python",
   "name": "python3"
  },
  "language_info": {
   "codemirror_mode": {
    "name": "ipython",
    "version": 3
   },
   "file_extension": ".py",
   "mimetype": "text/x-python",
   "name": "python",
   "nbconvert_exporter": "python",
   "pygments_lexer": "ipython3",
   "version": "3.6.4"
  },
  "varInspector": {
   "cols": {
    "lenName": 16,
    "lenType": 16,
    "lenVar": 40
   },
   "kernels_config": {
    "python": {
     "delete_cmd_postfix": "",
     "delete_cmd_prefix": "del ",
     "library": "var_list.py",
     "varRefreshCmd": "print(var_dic_list())"
    },
    "r": {
     "delete_cmd_postfix": ") ",
     "delete_cmd_prefix": "rm(",
     "library": "var_list.r",
     "varRefreshCmd": "cat(var_dic_list()) "
    }
   },
   "types_to_exclude": [
    "module",
    "function",
    "builtin_function_or_method",
    "instance",
    "_Feature"
   ],
   "window_display": false
  }
 },
 "nbformat": 4,
 "nbformat_minor": 2
}
